{
 "cells": [
  {
   "cell_type": "code",
   "execution_count": 5,
   "id": "353df87d",
   "metadata": {},
   "outputs": [],
   "source": [
    "import numpy as np # linear algebra\n",
    "import pandas as pd # data processing, CSV file I/O (e.g. pd.read_csv)\n",
    "import matplotlib.pyplot as plt\n",
    "import seaborn as sns\n",
    "import os"
   ]
  },
  {
   "cell_type": "code",
   "execution_count": 6,
   "id": "56ed7352",
   "metadata": {},
   "outputs": [],
   "source": [
    "os.chdir(\"C:/Users/Arunita.000/Desktop/MachineLearning_Classification_Clustering_Regression/ProductClustering\")"
   ]
  },
  {
   "cell_type": "code",
   "execution_count": 7,
   "id": "11b89ec1",
   "metadata": {},
   "outputs": [],
   "source": [
    "df=pd.read_csv(\"skroutz_aggregate.csv\")"
   ]
  },
  {
   "cell_type": "code",
   "execution_count": 8,
   "id": "ff50d28b",
   "metadata": {},
   "outputs": [
    {
     "data": {
      "text/html": [
       "<div>\n",
       "<style scoped>\n",
       "    .dataframe tbody tr th:only-of-type {\n",
       "        vertical-align: middle;\n",
       "    }\n",
       "\n",
       "    .dataframe tbody tr th {\n",
       "        vertical-align: top;\n",
       "    }\n",
       "\n",
       "    .dataframe thead th {\n",
       "        text-align: right;\n",
       "    }\n",
       "</style>\n",
       "<table border=\"1\" class=\"dataframe\">\n",
       "  <thead>\n",
       "    <tr style=\"text-align: right;\">\n",
       "      <th></th>\n",
       "      <th>1</th>\n",
       "      <th>amd ryzen 5 1600 box epexergastis me wraith spire cooler pliromi eos 24 dosis amd</th>\n",
       "      <th>1030</th>\n",
       "      <th>1.1</th>\n",
       "      <th>AMD Ryzen 5 1600 Box</th>\n",
       "      <th>696</th>\n",
       "      <th>CPUs</th>\n",
       "    </tr>\n",
       "  </thead>\n",
       "  <tbody>\n",
       "    <tr>\n",
       "      <th>0</th>\n",
       "      <td>2</td>\n",
       "      <td>amd ryzen 5 1600</td>\n",
       "      <td>3964</td>\n",
       "      <td>1</td>\n",
       "      <td>AMD Ryzen 5 1600 Box</td>\n",
       "      <td>696</td>\n",
       "      <td>CPUs</td>\n",
       "    </tr>\n",
       "    <tr>\n",
       "      <th>1</th>\n",
       "      <td>3</td>\n",
       "      <td>amd ryzen 5 1600 box pliromi ke se eos 36 dosis</td>\n",
       "      <td>4814</td>\n",
       "      <td>1</td>\n",
       "      <td>AMD Ryzen 5 1600 Box</td>\n",
       "      <td>696</td>\n",
       "      <td>CPUs</td>\n",
       "    </tr>\n",
       "    <tr>\n",
       "      <th>2</th>\n",
       "      <td>4</td>\n",
       "      <td>amd ryzen 5 1600 yd1600bbaebox</td>\n",
       "      <td>4835</td>\n",
       "      <td>1</td>\n",
       "      <td>AMD Ryzen 5 1600 Box</td>\n",
       "      <td>696</td>\n",
       "      <td>CPUs</td>\n",
       "    </tr>\n",
       "    <tr>\n",
       "      <th>3</th>\n",
       "      <td>5</td>\n",
       "      <td>amd ryzen 5 1600 box yd1600bbaebox</td>\n",
       "      <td>2976</td>\n",
       "      <td>1</td>\n",
       "      <td>AMD Ryzen 5 1600 Box</td>\n",
       "      <td>696</td>\n",
       "      <td>CPUs</td>\n",
       "    </tr>\n",
       "    <tr>\n",
       "      <th>4</th>\n",
       "      <td>6</td>\n",
       "      <td>amd ryzen 5 1600 yd1600bbaebox</td>\n",
       "      <td>3427</td>\n",
       "      <td>1</td>\n",
       "      <td>AMD Ryzen 5 1600 Box</td>\n",
       "      <td>696</td>\n",
       "      <td>CPUs</td>\n",
       "    </tr>\n",
       "  </tbody>\n",
       "</table>\n",
       "</div>"
      ],
      "text/plain": [
       "   1  \\\n",
       "0  2   \n",
       "1  3   \n",
       "2  4   \n",
       "3  5   \n",
       "4  6   \n",
       "\n",
       "  amd ryzen 5 1600 box epexergastis me wraith spire cooler pliromi eos 24 dosis amd  \\\n",
       "0                                   amd ryzen 5 1600                                  \n",
       "1    amd ryzen 5 1600 box pliromi ke se eos 36 dosis                                  \n",
       "2                     amd ryzen 5 1600 yd1600bbaebox                                  \n",
       "3                 amd ryzen 5 1600 box yd1600bbaebox                                  \n",
       "4                     amd ryzen 5 1600 yd1600bbaebox                                  \n",
       "\n",
       "   1030  1.1  AMD Ryzen 5 1600 Box  696  CPUs  \n",
       "0  3964    1  AMD Ryzen 5 1600 Box  696  CPUs  \n",
       "1  4814    1  AMD Ryzen 5 1600 Box  696  CPUs  \n",
       "2  4835    1  AMD Ryzen 5 1600 Box  696  CPUs  \n",
       "3  2976    1  AMD Ryzen 5 1600 Box  696  CPUs  \n",
       "4  3427    1  AMD Ryzen 5 1600 Box  696  CPUs  "
      ]
     },
     "execution_count": 8,
     "metadata": {},
     "output_type": "execute_result"
    }
   ],
   "source": [
    "df.head()"
   ]
  },
  {
   "cell_type": "code",
   "execution_count": 9,
   "id": "c236e5c9",
   "metadata": {},
   "outputs": [
    {
     "name": "stdout",
     "output_type": "stream",
     "text": [
      "<class 'pandas.core.frame.DataFrame'>\n",
      "RangeIndex: 238169 entries, 0 to 238168\n",
      "Data columns (total 7 columns):\n",
      " #   Column                                                                             Non-Null Count   Dtype \n",
      "---  ------                                                                             --------------   ----- \n",
      " 0   1                                                                                  238169 non-null  int64 \n",
      " 1   amd ryzen 5 1600 box epexergastis me wraith spire cooler pliromi eos 24 dosis amd  238169 non-null  object\n",
      " 2   1030                                                                               238169 non-null  int64 \n",
      " 3   1.1                                                                                238169 non-null  int64 \n",
      " 4   AMD Ryzen 5 1600 Box                                                               238169 non-null  object\n",
      " 5   696                                                                                238169 non-null  int64 \n",
      " 6   CPUs                                                                               238169 non-null  object\n",
      "dtypes: int64(4), object(3)\n",
      "memory usage: 12.7+ MB\n"
     ]
    }
   ],
   "source": [
    "df.info()"
   ]
  },
  {
   "cell_type": "code",
   "execution_count": null,
   "id": "9d7d3423",
   "metadata": {},
   "outputs": [],
   "source": []
  }
 ],
 "metadata": {
  "kernelspec": {
   "display_name": "Python 3",
   "language": "python",
   "name": "python3"
  },
  "language_info": {
   "codemirror_mode": {
    "name": "ipython",
    "version": 3
   },
   "file_extension": ".py",
   "mimetype": "text/x-python",
   "name": "python",
   "nbconvert_exporter": "python",
   "pygments_lexer": "ipython3",
   "version": "3.8.8"
  }
 },
 "nbformat": 4,
 "nbformat_minor": 5
}
